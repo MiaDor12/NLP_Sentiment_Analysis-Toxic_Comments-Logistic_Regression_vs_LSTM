{
 "cells": [
  {
   "cell_type": "markdown",
   "metadata": {},
   "source": [
    "# Introduction\n",
    "* This notebook contains an NLP sentiment classification of comments into several class labels of several types of verbal violence.\n",
    "* The dataset is from kaggle: https://www.kaggle.com/c/jigsaw-toxic-comment-classification-challenge.\n",
    "* This notebook provides a linear baseline for this contest.\n",
    "* The prediction that I submitted to kaggle got an avg AUC score of 0.83514.\n",
    "\n",
    "\n",
    "### The notebook is divided into the following parts:\n",
    "* Part 1: Notebook Preparation\n",
    "    * Import\n",
    "    * Config\n",
    "    * Functions\n",
    "* Part 2: Data Processing\n",
    "    * Basic analysis\n",
    "    * Word tokenization\n",
    "    * Text stemming and lemmatization\n",
    "    * Build a bag of words and remove stop words\n",
    "    * TF-IDF\n",
    "    * Organize the words as feature columns in a data frame\n",
    "    * Check if the presence of a word in a comment is indicative\n",
    "* Part 3: Modeling\n",
    "    * Dimension reduction - PCA\n",
    "    * Fit the model to the data\n",
    "    * Predict the labels of the test dataset"
   ]
  },
  {
   "cell_type": "markdown",
   "metadata": {},
   "source": [
    "# Part 1: Notebook Preparation"
   ]
  },
  {
   "cell_type": "markdown",
   "metadata": {},
   "source": [
    "## Import"
   ]
  },
  {
   "cell_type": "code",
   "execution_count": 1,
   "metadata": {},
   "outputs": [
    {
     "data": {
      "application/javascript": [
       "IPython.notebook.set_autosave_interval(60000)"
      ]
     },
     "metadata": {},
     "output_type": "display_data"
    },
    {
     "name": "stdout",
     "output_type": "stream",
     "text": [
      "Autosaving every 60 seconds\n"
     ]
    }
   ],
   "source": [
    "# Data analysis\n",
    "import pandas as pd\n",
    "import numpy as np\n",
    "import re\n",
    "import collections\n",
    "from collections import Counter\n",
    "\n",
    "# NLP\n",
    "from nltk.stem import PorterStemmer\n",
    "porter = PorterStemmer()\n",
    "\n",
    "# Machine learning\n",
    "from sklearn.metrics import make_scorer\n",
    "from sklearn.metrics import roc_curve, auc\n",
    "from sklearn.model_selection import GridSearchCV\n",
    "from sklearn.preprocessing import StandardScaler\n",
    "from sklearn.decomposition import PCA\n",
    "from sklearn.linear_model import LogisticRegression\n",
    "    \n",
    "%autosave 60"
   ]
  },
  {
   "cell_type": "markdown",
   "metadata": {},
   "source": [
    "## Config"
   ]
  },
  {
   "cell_type": "code",
   "execution_count": 2,
   "metadata": {},
   "outputs": [],
   "source": [
    "df_train = pd.read_csv('train.csv')\n",
    "df_test = pd.read_csv('test.csv')\n",
    "\n",
    "labels_list = ['toxic', 'severe_toxic', 'obscene', 'threat', 'insult', 'identity_hate']\n",
    "\n",
    "# I added the word '_label' to each label name, so it won't overlap with real words in the comments.\n",
    "labels_dict = {label:f'{label}_label' for label in labels_list}\n",
    "new_label_list = list(labels_dict.values())"
   ]
  },
  {
   "cell_type": "markdown",
   "metadata": {},
   "source": [
    "## Functions"
   ]
  },
  {
   "cell_type": "code",
   "execution_count": 3,
   "metadata": {},
   "outputs": [],
   "source": [
    "def cleanText(txt):\n",
    "    \"\"\"\n",
    "    This function performs tokenization for the text.\n",
    "    It removes forbidden symbols, and replace digits with the token '<num>'.\n",
    "    It also replaces the character '\\n' with a space, \n",
    "    and adds spaces near the '<','>' symbols, to make sure it won't be near a real word.\n",
    "    In addition, I transpose all text to lower case.\n",
    "    \"\"\"\n",
    "    \n",
    "    digits = re.compile(r\"\\d[\\d\\.\\$]*\")\n",
    "    forbidden = re.compile(r\"[^\\sA-Za-z<>]\")\n",
    "    \n",
    "    txt = digits.sub(\"<num>\", txt)\n",
    "    txt = forbidden.sub(\"\", txt)\n",
    "    txt = txt.replace('\\n', ' ').replace('>', '> ').replace('<', ' <').lower()\n",
    "       \n",
    "    return txt"
   ]
  },
  {
   "cell_type": "code",
   "execution_count": 4,
   "metadata": {},
   "outputs": [],
   "source": [
    "def stemming(txt):\n",
    "    \"\"\"\n",
    "    This function performs stemming and lemmatization for the text.\n",
    "    It returns a list of words in the comment.\n",
    "    \"\"\"\n",
    "    \n",
    "    result = [porter.stem(word) if len(word) <= 30 else '<long>' for word in txt.split()]\n",
    "    return result"
   ]
  },
  {
   "cell_type": "code",
   "execution_count": 5,
   "metadata": {},
   "outputs": [],
   "source": [
    "def word_count_per_comment(txt, total_vocab):\n",
    "    \"\"\"\n",
    "    This function counts words in a comment.\n",
    "    \"\"\"\n",
    "    \n",
    "    word_count = collections.Counter([w for w in txt if w in total_vocab])\n",
    "    return dict(word_count)"
   ]
  },
  {
   "cell_type": "code",
   "execution_count": 6,
   "metadata": {},
   "outputs": [],
   "source": [
    "def make_lifts_reports_based_on_column_that_contains_set_of_items(df, columnOfItems, CLASS_LABEL):\n",
    "    \"\"\"\n",
    "    Returns pandas df with lifts report per item (index).\n",
    "    params:\n",
    "        df - the df with all the users per item (all the items are in a set on one column) and the class label is in another column.\n",
    "        columnOfItems - the column name that contains the set of items.\n",
    "        CLASS_LABEL - the column to check lift to.\n",
    "    \"\"\"   \n",
    "\n",
    "    total_rows = len(df[~pd.isna(df[CLASS_LABEL])])\n",
    "    total_rows_label_1 = len(df[df[CLASS_LABEL] == 1])\n",
    "    total_rows_label_0 = total_rows - total_rows_label_1\n",
    "\n",
    "    ItemToCount_Feature1_Label1 = Counter()\n",
    "    for ItemsSet in list(df[(df[CLASS_LABEL] == 1) & (~pd.isna(df[columnOfItems])) & (df[columnOfItems] != 'null')][columnOfItems]):\n",
    "        for Item in ItemsSet:\n",
    "            ItemToCount_Feature1_Label1[Item] += 1          \n",
    "\n",
    "    ItemToCount_Feature1_Label0 = Counter()\n",
    "    for ItemsSet in list(df[(df[CLASS_LABEL] == 0) & (~pd.isna(df[columnOfItems])) & (df[columnOfItems] != 'null')][columnOfItems]):\n",
    "        for Item in ItemsSet:\n",
    "            ItemToCount_Feature1_Label0[Item] += 1\n",
    "\n",
    "    feature1_label1_column = pd.DataFrame({'Feature=1_Label=1': ItemToCount_Feature1_Label1})\n",
    "    feature1_label0_column = pd.DataFrame({'Feature=1_Label=0': ItemToCount_Feature1_Label0})\n",
    "\n",
    "    resultsDf = feature1_label1_column.merge(feature1_label0_column, left_index=True, right_index=True, how='outer')\n",
    "    resultsDf = resultsDf.fillna(0)\n",
    "    resultsDf['Feature=0_Label=1'] = resultsDf['Feature=1_Label=1'].apply(lambda x: total_rows_label_1 - x)\n",
    "    resultsDf['Feature=0_Label=0'] = resultsDf['Feature=1_Label=0'].apply(lambda x: total_rows_label_0 - x)\n",
    "    resultsDf['total_Feature=1'] = resultsDf['Feature=1_Label=1'] + resultsDf['Feature=1_Label=0']\n",
    "    resultsDf['oddsRatio'] = (resultsDf['Feature=1_Label=1']/resultsDf['Feature=0_Label=1'])/(resultsDf['Feature=1_Label=0']/resultsDf['Feature=0_Label=0'])\n",
    "    resultsDf['likelihoodRatio'] = (resultsDf['Feature=1_Label=1']/(resultsDf['Feature=1_Label=1']+resultsDf['Feature=0_Label=1']))/(resultsDf['Feature=1_Label=0']/(resultsDf['Feature=1_Label=0']+resultsDf['Feature=0_Label=0']))\n",
    "    resultsDf = resultsDf[['oddsRatio','likelihoodRatio','Feature=1_Label=1','Feature=1_Label=0','Feature=0_Label=1','Feature=0_Label=0','total_Feature=1']]\n",
    "    \n",
    "    return resultsDf"
   ]
  },
  {
   "cell_type": "code",
   "execution_count": 7,
   "metadata": {},
   "outputs": [],
   "source": [
    "def custom_auc(ground_truth, predictions):\n",
    "    \"\"\"\n",
    "    Define AUC scoring function.\n",
    "    \"\"\"\n",
    "    fpr, tpr, _ = roc_curve(ground_truth, predictions, pos_label=1)    \n",
    "    return auc(fpr, tpr)\n",
    "\n",
    "# set it as a standard sklearn's scorer        \n",
    "my_auc = make_scorer(custom_auc, greater_is_better=True, needs_proba=True)"
   ]
  },
  {
   "cell_type": "markdown",
   "metadata": {},
   "source": [
    "# Part 2: Data Processing"
   ]
  },
  {
   "cell_type": "markdown",
   "metadata": {},
   "source": [
    "## Basic analysis"
   ]
  },
  {
   "cell_type": "code",
   "execution_count": 8,
   "metadata": {},
   "outputs": [
    {
     "data": {
      "text/html": [
       "<div>\n",
       "<style scoped>\n",
       "    .dataframe tbody tr th:only-of-type {\n",
       "        vertical-align: middle;\n",
       "    }\n",
       "\n",
       "    .dataframe tbody tr th {\n",
       "        vertical-align: top;\n",
       "    }\n",
       "\n",
       "    .dataframe thead th {\n",
       "        text-align: right;\n",
       "    }\n",
       "</style>\n",
       "<table border=\"1\" class=\"dataframe\">\n",
       "  <thead>\n",
       "    <tr style=\"text-align: right;\">\n",
       "      <th></th>\n",
       "      <th>id</th>\n",
       "      <th>comment_text</th>\n",
       "      <th>toxic</th>\n",
       "      <th>severe_toxic</th>\n",
       "      <th>obscene</th>\n",
       "      <th>threat</th>\n",
       "      <th>insult</th>\n",
       "      <th>identity_hate</th>\n",
       "    </tr>\n",
       "  </thead>\n",
       "  <tbody>\n",
       "    <tr>\n",
       "      <th>0</th>\n",
       "      <td>0000997932d777bf</td>\n",
       "      <td>Explanation\\nWhy the edits made under my usern...</td>\n",
       "      <td>0</td>\n",
       "      <td>0</td>\n",
       "      <td>0</td>\n",
       "      <td>0</td>\n",
       "      <td>0</td>\n",
       "      <td>0</td>\n",
       "    </tr>\n",
       "    <tr>\n",
       "      <th>1</th>\n",
       "      <td>000103f0d9cfb60f</td>\n",
       "      <td>D'aww! He matches this background colour I'm s...</td>\n",
       "      <td>0</td>\n",
       "      <td>0</td>\n",
       "      <td>0</td>\n",
       "      <td>0</td>\n",
       "      <td>0</td>\n",
       "      <td>0</td>\n",
       "    </tr>\n",
       "    <tr>\n",
       "      <th>2</th>\n",
       "      <td>000113f07ec002fd</td>\n",
       "      <td>Hey man, I'm really not trying to edit war. It...</td>\n",
       "      <td>0</td>\n",
       "      <td>0</td>\n",
       "      <td>0</td>\n",
       "      <td>0</td>\n",
       "      <td>0</td>\n",
       "      <td>0</td>\n",
       "    </tr>\n",
       "    <tr>\n",
       "      <th>3</th>\n",
       "      <td>0001b41b1c6bb37e</td>\n",
       "      <td>\"\\nMore\\nI can't make any real suggestions on ...</td>\n",
       "      <td>0</td>\n",
       "      <td>0</td>\n",
       "      <td>0</td>\n",
       "      <td>0</td>\n",
       "      <td>0</td>\n",
       "      <td>0</td>\n",
       "    </tr>\n",
       "    <tr>\n",
       "      <th>4</th>\n",
       "      <td>0001d958c54c6e35</td>\n",
       "      <td>You, sir, are my hero. Any chance you remember...</td>\n",
       "      <td>0</td>\n",
       "      <td>0</td>\n",
       "      <td>0</td>\n",
       "      <td>0</td>\n",
       "      <td>0</td>\n",
       "      <td>0</td>\n",
       "    </tr>\n",
       "  </tbody>\n",
       "</table>\n",
       "</div>"
      ],
      "text/plain": [
       "                 id                                       comment_text  toxic  \\\n",
       "0  0000997932d777bf  Explanation\\nWhy the edits made under my usern...      0   \n",
       "1  000103f0d9cfb60f  D'aww! He matches this background colour I'm s...      0   \n",
       "2  000113f07ec002fd  Hey man, I'm really not trying to edit war. It...      0   \n",
       "3  0001b41b1c6bb37e  \"\\nMore\\nI can't make any real suggestions on ...      0   \n",
       "4  0001d958c54c6e35  You, sir, are my hero. Any chance you remember...      0   \n",
       "\n",
       "   severe_toxic  obscene  threat  insult  identity_hate  \n",
       "0             0        0       0       0              0  \n",
       "1             0        0       0       0              0  \n",
       "2             0        0       0       0              0  \n",
       "3             0        0       0       0              0  \n",
       "4             0        0       0       0              0  "
      ]
     },
     "metadata": {},
     "output_type": "display_data"
    },
    {
     "name": "stdout",
     "output_type": "stream",
     "text": [
      "(159571, 8)\n"
     ]
    }
   ],
   "source": [
    "display(df_train.head(5))\n",
    "print(df_train.shape)"
   ]
  },
  {
   "cell_type": "code",
   "execution_count": 9,
   "metadata": {},
   "outputs": [
    {
     "data": {
      "text/plain": [
       "'COCKSUCKER BEFORE YOU PISS AROUND ON MY WORK'"
      ]
     },
     "execution_count": 9,
     "metadata": {},
     "output_type": "execute_result"
    }
   ],
   "source": [
    "# An example for a toxic comment\n",
    "df_train[df_train['toxic']==1]['comment_text'].iloc[0]"
   ]
  },
  {
   "cell_type": "code",
   "execution_count": 10,
   "metadata": {},
   "outputs": [
    {
     "data": {
      "text/plain": [
       "\"Hey man, I'm really not trying to edit war. It's just that this guy is constantly removing relevant information and talking to me through edits instead of my talk page. He seems to care more about the formatting than the actual info.\""
      ]
     },
     "execution_count": 10,
     "metadata": {},
     "output_type": "execute_result"
    }
   ],
   "source": [
    "# An example for a non toxic comment\n",
    "df_train[df_train.sum(axis=1) == 0]['comment_text'].iloc[2]"
   ]
  },
  {
   "cell_type": "code",
   "execution_count": 11,
   "metadata": {},
   "outputs": [
    {
     "data": {
      "text/html": [
       "<div>\n",
       "<style scoped>\n",
       "    .dataframe tbody tr th:only-of-type {\n",
       "        vertical-align: middle;\n",
       "    }\n",
       "\n",
       "    .dataframe tbody tr th {\n",
       "        vertical-align: top;\n",
       "    }\n",
       "\n",
       "    .dataframe thead th {\n",
       "        text-align: right;\n",
       "    }\n",
       "</style>\n",
       "<table border=\"1\" class=\"dataframe\">\n",
       "  <thead>\n",
       "    <tr style=\"text-align: right;\">\n",
       "      <th></th>\n",
       "      <th>toxic</th>\n",
       "      <th>severe_toxic</th>\n",
       "      <th>obscene</th>\n",
       "      <th>threat</th>\n",
       "      <th>insult</th>\n",
       "      <th>identity_hate</th>\n",
       "    </tr>\n",
       "  </thead>\n",
       "  <tbody>\n",
       "    <tr>\n",
       "      <th>count</th>\n",
       "      <td>159571.000000</td>\n",
       "      <td>159571.000000</td>\n",
       "      <td>159571.000000</td>\n",
       "      <td>159571.000000</td>\n",
       "      <td>159571.000000</td>\n",
       "      <td>159571.000000</td>\n",
       "    </tr>\n",
       "    <tr>\n",
       "      <th>mean</th>\n",
       "      <td>0.095844</td>\n",
       "      <td>0.009996</td>\n",
       "      <td>0.052948</td>\n",
       "      <td>0.002996</td>\n",
       "      <td>0.049364</td>\n",
       "      <td>0.008805</td>\n",
       "    </tr>\n",
       "    <tr>\n",
       "      <th>std</th>\n",
       "      <td>0.294379</td>\n",
       "      <td>0.099477</td>\n",
       "      <td>0.223931</td>\n",
       "      <td>0.054650</td>\n",
       "      <td>0.216627</td>\n",
       "      <td>0.093420</td>\n",
       "    </tr>\n",
       "    <tr>\n",
       "      <th>min</th>\n",
       "      <td>0.000000</td>\n",
       "      <td>0.000000</td>\n",
       "      <td>0.000000</td>\n",
       "      <td>0.000000</td>\n",
       "      <td>0.000000</td>\n",
       "      <td>0.000000</td>\n",
       "    </tr>\n",
       "    <tr>\n",
       "      <th>25%</th>\n",
       "      <td>0.000000</td>\n",
       "      <td>0.000000</td>\n",
       "      <td>0.000000</td>\n",
       "      <td>0.000000</td>\n",
       "      <td>0.000000</td>\n",
       "      <td>0.000000</td>\n",
       "    </tr>\n",
       "    <tr>\n",
       "      <th>50%</th>\n",
       "      <td>0.000000</td>\n",
       "      <td>0.000000</td>\n",
       "      <td>0.000000</td>\n",
       "      <td>0.000000</td>\n",
       "      <td>0.000000</td>\n",
       "      <td>0.000000</td>\n",
       "    </tr>\n",
       "    <tr>\n",
       "      <th>75%</th>\n",
       "      <td>0.000000</td>\n",
       "      <td>0.000000</td>\n",
       "      <td>0.000000</td>\n",
       "      <td>0.000000</td>\n",
       "      <td>0.000000</td>\n",
       "      <td>0.000000</td>\n",
       "    </tr>\n",
       "    <tr>\n",
       "      <th>max</th>\n",
       "      <td>1.000000</td>\n",
       "      <td>1.000000</td>\n",
       "      <td>1.000000</td>\n",
       "      <td>1.000000</td>\n",
       "      <td>1.000000</td>\n",
       "      <td>1.000000</td>\n",
       "    </tr>\n",
       "  </tbody>\n",
       "</table>\n",
       "</div>"
      ],
      "text/plain": [
       "               toxic   severe_toxic        obscene         threat  \\\n",
       "count  159571.000000  159571.000000  159571.000000  159571.000000   \n",
       "mean        0.095844       0.009996       0.052948       0.002996   \n",
       "std         0.294379       0.099477       0.223931       0.054650   \n",
       "min         0.000000       0.000000       0.000000       0.000000   \n",
       "25%         0.000000       0.000000       0.000000       0.000000   \n",
       "50%         0.000000       0.000000       0.000000       0.000000   \n",
       "75%         0.000000       0.000000       0.000000       0.000000   \n",
       "max         1.000000       1.000000       1.000000       1.000000   \n",
       "\n",
       "              insult  identity_hate  \n",
       "count  159571.000000  159571.000000  \n",
       "mean        0.049364       0.008805  \n",
       "std         0.216627       0.093420  \n",
       "min         0.000000       0.000000  \n",
       "25%         0.000000       0.000000  \n",
       "50%         0.000000       0.000000  \n",
       "75%         0.000000       0.000000  \n",
       "max         1.000000       1.000000  "
      ]
     },
     "execution_count": 11,
     "metadata": {},
     "output_type": "execute_result"
    }
   ],
   "source": [
    "df_train.describe()"
   ]
  },
  {
   "cell_type": "code",
   "execution_count": 12,
   "metadata": {},
   "outputs": [
    {
     "data": {
      "text/plain": [
       "(153164, 2)"
      ]
     },
     "execution_count": 12,
     "metadata": {},
     "output_type": "execute_result"
    }
   ],
   "source": [
    "df_test.shape"
   ]
  },
  {
   "cell_type": "code",
   "execution_count": 13,
   "metadata": {},
   "outputs": [],
   "source": [
    "df_train['is_train'] = 1\n",
    "for label in labels_list:\n",
    "    df_test[label] = None\n",
    "df_test['is_train'] = 0\n",
    "\n",
    "dfFull = pd.concat([df_train,df_test])"
   ]
  },
  {
   "cell_type": "code",
   "execution_count": 14,
   "metadata": {},
   "outputs": [],
   "source": [
    "dfFull = dfFull.set_index('id')\n",
    "dfFull = dfFull.rename(columns=labels_dict)"
   ]
  },
  {
   "cell_type": "code",
   "execution_count": 15,
   "metadata": {},
   "outputs": [
    {
     "data": {
      "text/html": [
       "<div>\n",
       "<style scoped>\n",
       "    .dataframe tbody tr th:only-of-type {\n",
       "        vertical-align: middle;\n",
       "    }\n",
       "\n",
       "    .dataframe tbody tr th {\n",
       "        vertical-align: top;\n",
       "    }\n",
       "\n",
       "    .dataframe thead th {\n",
       "        text-align: right;\n",
       "    }\n",
       "</style>\n",
       "<table border=\"1\" class=\"dataframe\">\n",
       "  <thead>\n",
       "    <tr style=\"text-align: right;\">\n",
       "      <th></th>\n",
       "      <th>comment_text</th>\n",
       "      <th>toxic_label</th>\n",
       "      <th>severe_toxic_label</th>\n",
       "      <th>obscene_label</th>\n",
       "      <th>threat_label</th>\n",
       "      <th>insult_label</th>\n",
       "      <th>identity_hate_label</th>\n",
       "      <th>is_train</th>\n",
       "    </tr>\n",
       "    <tr>\n",
       "      <th>id</th>\n",
       "      <th></th>\n",
       "      <th></th>\n",
       "      <th></th>\n",
       "      <th></th>\n",
       "      <th></th>\n",
       "      <th></th>\n",
       "      <th></th>\n",
       "      <th></th>\n",
       "    </tr>\n",
       "  </thead>\n",
       "  <tbody>\n",
       "    <tr>\n",
       "      <th>0000997932d777bf</th>\n",
       "      <td>Explanation\\nWhy the edits made under my usern...</td>\n",
       "      <td>0</td>\n",
       "      <td>0</td>\n",
       "      <td>0</td>\n",
       "      <td>0</td>\n",
       "      <td>0</td>\n",
       "      <td>0</td>\n",
       "      <td>1</td>\n",
       "    </tr>\n",
       "    <tr>\n",
       "      <th>000103f0d9cfb60f</th>\n",
       "      <td>D'aww! He matches this background colour I'm s...</td>\n",
       "      <td>0</td>\n",
       "      <td>0</td>\n",
       "      <td>0</td>\n",
       "      <td>0</td>\n",
       "      <td>0</td>\n",
       "      <td>0</td>\n",
       "      <td>1</td>\n",
       "    </tr>\n",
       "    <tr>\n",
       "      <th>000113f07ec002fd</th>\n",
       "      <td>Hey man, I'm really not trying to edit war. It...</td>\n",
       "      <td>0</td>\n",
       "      <td>0</td>\n",
       "      <td>0</td>\n",
       "      <td>0</td>\n",
       "      <td>0</td>\n",
       "      <td>0</td>\n",
       "      <td>1</td>\n",
       "    </tr>\n",
       "    <tr>\n",
       "      <th>0001b41b1c6bb37e</th>\n",
       "      <td>\"\\nMore\\nI can't make any real suggestions on ...</td>\n",
       "      <td>0</td>\n",
       "      <td>0</td>\n",
       "      <td>0</td>\n",
       "      <td>0</td>\n",
       "      <td>0</td>\n",
       "      <td>0</td>\n",
       "      <td>1</td>\n",
       "    </tr>\n",
       "    <tr>\n",
       "      <th>0001d958c54c6e35</th>\n",
       "      <td>You, sir, are my hero. Any chance you remember...</td>\n",
       "      <td>0</td>\n",
       "      <td>0</td>\n",
       "      <td>0</td>\n",
       "      <td>0</td>\n",
       "      <td>0</td>\n",
       "      <td>0</td>\n",
       "      <td>1</td>\n",
       "    </tr>\n",
       "  </tbody>\n",
       "</table>\n",
       "</div>"
      ],
      "text/plain": [
       "                                                       comment_text  \\\n",
       "id                                                                    \n",
       "0000997932d777bf  Explanation\\nWhy the edits made under my usern...   \n",
       "000103f0d9cfb60f  D'aww! He matches this background colour I'm s...   \n",
       "000113f07ec002fd  Hey man, I'm really not trying to edit war. It...   \n",
       "0001b41b1c6bb37e  \"\\nMore\\nI can't make any real suggestions on ...   \n",
       "0001d958c54c6e35  You, sir, are my hero. Any chance you remember...   \n",
       "\n",
       "                 toxic_label severe_toxic_label obscene_label threat_label  \\\n",
       "id                                                                           \n",
       "0000997932d777bf           0                  0             0            0   \n",
       "000103f0d9cfb60f           0                  0             0            0   \n",
       "000113f07ec002fd           0                  0             0            0   \n",
       "0001b41b1c6bb37e           0                  0             0            0   \n",
       "0001d958c54c6e35           0                  0             0            0   \n",
       "\n",
       "                 insult_label identity_hate_label  is_train  \n",
       "id                                                           \n",
       "0000997932d777bf            0                   0         1  \n",
       "000103f0d9cfb60f            0                   0         1  \n",
       "000113f07ec002fd            0                   0         1  \n",
       "0001b41b1c6bb37e            0                   0         1  \n",
       "0001d958c54c6e35            0                   0         1  "
      ]
     },
     "metadata": {},
     "output_type": "display_data"
    },
    {
     "data": {
      "text/html": [
       "<div>\n",
       "<style scoped>\n",
       "    .dataframe tbody tr th:only-of-type {\n",
       "        vertical-align: middle;\n",
       "    }\n",
       "\n",
       "    .dataframe tbody tr th {\n",
       "        vertical-align: top;\n",
       "    }\n",
       "\n",
       "    .dataframe thead th {\n",
       "        text-align: right;\n",
       "    }\n",
       "</style>\n",
       "<table border=\"1\" class=\"dataframe\">\n",
       "  <thead>\n",
       "    <tr style=\"text-align: right;\">\n",
       "      <th></th>\n",
       "      <th>comment_text</th>\n",
       "      <th>toxic_label</th>\n",
       "      <th>severe_toxic_label</th>\n",
       "      <th>obscene_label</th>\n",
       "      <th>threat_label</th>\n",
       "      <th>insult_label</th>\n",
       "      <th>identity_hate_label</th>\n",
       "      <th>is_train</th>\n",
       "    </tr>\n",
       "    <tr>\n",
       "      <th>id</th>\n",
       "      <th></th>\n",
       "      <th></th>\n",
       "      <th></th>\n",
       "      <th></th>\n",
       "      <th></th>\n",
       "      <th></th>\n",
       "      <th></th>\n",
       "      <th></th>\n",
       "    </tr>\n",
       "  </thead>\n",
       "  <tbody>\n",
       "    <tr>\n",
       "      <th>fffcd0960ee309b5</th>\n",
       "      <td>. \\n i totally agree, this stuff is nothing bu...</td>\n",
       "      <td>None</td>\n",
       "      <td>None</td>\n",
       "      <td>None</td>\n",
       "      <td>None</td>\n",
       "      <td>None</td>\n",
       "      <td>None</td>\n",
       "      <td>0</td>\n",
       "    </tr>\n",
       "    <tr>\n",
       "      <th>fffd7a9a6eb32c16</th>\n",
       "      <td>== Throw from out field to home plate. == \\n\\n...</td>\n",
       "      <td>None</td>\n",
       "      <td>None</td>\n",
       "      <td>None</td>\n",
       "      <td>None</td>\n",
       "      <td>None</td>\n",
       "      <td>None</td>\n",
       "      <td>0</td>\n",
       "    </tr>\n",
       "    <tr>\n",
       "      <th>fffda9e8d6fafa9e</th>\n",
       "      <td>\" \\n\\n == Okinotorishima categories == \\n\\n I ...</td>\n",
       "      <td>None</td>\n",
       "      <td>None</td>\n",
       "      <td>None</td>\n",
       "      <td>None</td>\n",
       "      <td>None</td>\n",
       "      <td>None</td>\n",
       "      <td>0</td>\n",
       "    </tr>\n",
       "    <tr>\n",
       "      <th>fffe8f1340a79fc2</th>\n",
       "      <td>\" \\n\\n == \"\"One of the founding nations of the...</td>\n",
       "      <td>None</td>\n",
       "      <td>None</td>\n",
       "      <td>None</td>\n",
       "      <td>None</td>\n",
       "      <td>None</td>\n",
       "      <td>None</td>\n",
       "      <td>0</td>\n",
       "    </tr>\n",
       "    <tr>\n",
       "      <th>ffffce3fb183ee80</th>\n",
       "      <td>\" \\n :::Stop already. Your bullshit is not wel...</td>\n",
       "      <td>None</td>\n",
       "      <td>None</td>\n",
       "      <td>None</td>\n",
       "      <td>None</td>\n",
       "      <td>None</td>\n",
       "      <td>None</td>\n",
       "      <td>0</td>\n",
       "    </tr>\n",
       "  </tbody>\n",
       "</table>\n",
       "</div>"
      ],
      "text/plain": [
       "                                                       comment_text  \\\n",
       "id                                                                    \n",
       "fffcd0960ee309b5  . \\n i totally agree, this stuff is nothing bu...   \n",
       "fffd7a9a6eb32c16  == Throw from out field to home plate. == \\n\\n...   \n",
       "fffda9e8d6fafa9e  \" \\n\\n == Okinotorishima categories == \\n\\n I ...   \n",
       "fffe8f1340a79fc2  \" \\n\\n == \"\"One of the founding nations of the...   \n",
       "ffffce3fb183ee80  \" \\n :::Stop already. Your bullshit is not wel...   \n",
       "\n",
       "                 toxic_label severe_toxic_label obscene_label threat_label  \\\n",
       "id                                                                           \n",
       "fffcd0960ee309b5        None               None          None         None   \n",
       "fffd7a9a6eb32c16        None               None          None         None   \n",
       "fffda9e8d6fafa9e        None               None          None         None   \n",
       "fffe8f1340a79fc2        None               None          None         None   \n",
       "ffffce3fb183ee80        None               None          None         None   \n",
       "\n",
       "                 insult_label identity_hate_label  is_train  \n",
       "id                                                           \n",
       "fffcd0960ee309b5         None                None         0  \n",
       "fffd7a9a6eb32c16         None                None         0  \n",
       "fffda9e8d6fafa9e         None                None         0  \n",
       "fffe8f1340a79fc2         None                None         0  \n",
       "ffffce3fb183ee80         None                None         0  "
      ]
     },
     "metadata": {},
     "output_type": "display_data"
    },
    {
     "name": "stdout",
     "output_type": "stream",
     "text": [
      "(312735, 8)\n"
     ]
    }
   ],
   "source": [
    "display(dfFull.head(5))\n",
    "display(dfFull.tail(5))\n",
    "print(dfFull.shape)"
   ]
  },
  {
   "cell_type": "code",
   "execution_count": 16,
   "metadata": {},
   "outputs": [],
   "source": [
    "dfFull['orig_comment'] = dfFull['comment_text']\n",
    "dfFull['comment_len_total'] = dfFull['comment_text'].apply(lambda txt: len(txt))\n",
    "dfFull['comment_len_words'] = dfFull['comment_text'].apply(lambda txt: len(txt.split()))"
   ]
  },
  {
   "cell_type": "markdown",
   "metadata": {},
   "source": [
    "## Word tokenization"
   ]
  },
  {
   "cell_type": "code",
   "execution_count": 17,
   "metadata": {},
   "outputs": [],
   "source": [
    "dfFull['comment_text'] = dfFull['comment_text'].apply(lambda txt: cleanText(txt))"
   ]
  },
  {
   "cell_type": "code",
   "execution_count": 18,
   "metadata": {
    "scrolled": true
   },
   "outputs": [
    {
     "data": {
      "text/plain": [
       "id\n",
       "0000997932d777bf    explanation why the edits made under my userna...\n",
       "000103f0d9cfb60f    daww he matches this background colour im seem...\n",
       "000113f07ec002fd    hey man im really not trying to edit war its j...\n",
       "0001b41b1c6bb37e     more i cant make any real suggestions on impr...\n",
       "0001d958c54c6e35    you sir are my hero any chance you remember wh...\n",
       "Name: comment_text, dtype: object"
      ]
     },
     "execution_count": 18,
     "metadata": {},
     "output_type": "execute_result"
    }
   ],
   "source": [
    "dfFull['comment_text'].head(5)"
   ]
  },
  {
   "cell_type": "markdown",
   "metadata": {},
   "source": [
    "## Text stemming and lemmatization"
   ]
  },
  {
   "cell_type": "code",
   "execution_count": 19,
   "metadata": {},
   "outputs": [],
   "source": [
    "dfFull['comment_text'] = dfFull['comment_text'].apply(lambda txt: stemming(txt))"
   ]
  },
  {
   "cell_type": "code",
   "execution_count": 20,
   "metadata": {
    "scrolled": true
   },
   "outputs": [
    {
     "data": {
      "text/plain": [
       "id\n",
       "0000997932d777bf    [explan, whi, the, edit, made, under, my, user...\n",
       "000103f0d9cfb60f    [daww, he, match, thi, background, colour, im,...\n",
       "000113f07ec002fd    [hey, man, im, realli, not, tri, to, edit, war...\n",
       "0001b41b1c6bb37e    [more, i, cant, make, ani, real, suggest, on, ...\n",
       "0001d958c54c6e35    [you, sir, are, my, hero, ani, chanc, you, rem...\n",
       "Name: comment_text, dtype: object"
      ]
     },
     "execution_count": 20,
     "metadata": {},
     "output_type": "execute_result"
    }
   ],
   "source": [
    "dfFull['comment_text'].head(5)"
   ]
  },
  {
   "cell_type": "markdown",
   "metadata": {},
   "source": [
    "## Build a bag of words and remove stop words"
   ]
  },
  {
   "cell_type": "code",
   "execution_count": 21,
   "metadata": {
    "scrolled": true
   },
   "outputs": [
    {
     "name": "stdout",
     "output_type": "stream",
     "text": [
      "19783301\n"
     ]
    }
   ],
   "source": [
    "total_word_count = collections.Counter()\n",
    "for txt in dfFull['comment_text']:\n",
    "    total_word_count += collections.Counter(txt)\n",
    "    \n",
    "total_words = sum(total_word_count.values())\n",
    "print(total_words)"
   ]
  },
  {
   "cell_type": "code",
   "execution_count": 22,
   "metadata": {},
   "outputs": [
    {
     "name": "stdout",
     "output_type": "stream",
     "text": [
      "4555\n"
     ]
    }
   ],
   "source": [
    "min_coverage = 200\n",
    "max_coverage = 50000\n",
    "\n",
    "total_vocab = {w for w,c in total_word_count.most_common() if min_coverage<=c<=max_coverage}\n",
    "print(len(total_vocab))"
   ]
  },
  {
   "cell_type": "markdown",
   "metadata": {},
   "source": [
    "## TF-IDF"
   ]
  },
  {
   "cell_type": "code",
   "execution_count": 23,
   "metadata": {},
   "outputs": [],
   "source": [
    "word_count_per_id = {}\n",
    "for comment_id, txt in zip(dfFull.index, dfFull['comment_text']):\n",
    "    word_count_per_id[comment_id] = word_count_per_comment(txt, total_vocab)"
   ]
  },
  {
   "cell_type": "code",
   "execution_count": 24,
   "metadata": {},
   "outputs": [],
   "source": [
    "tfidf_per_id = {}\n",
    "for comment_id, curr_word_count in word_count_per_id.items():\n",
    "    tfidf_per_id[comment_id] = {w : (c/total_word_count[w]) for w,c in curr_word_count.items()}"
   ]
  },
  {
   "cell_type": "markdown",
   "metadata": {},
   "source": [
    "## Organize the words as feature columns in a data frame"
   ]
  },
  {
   "cell_type": "code",
   "execution_count": 25,
   "metadata": {},
   "outputs": [],
   "source": [
    "wordsDf = pd.DataFrame(tfidf_per_id).T.fillna(0.0)"
   ]
  },
  {
   "cell_type": "code",
   "execution_count": 26,
   "metadata": {},
   "outputs": [],
   "source": [
    "columnsToAdd = ['comment_len_total','comment_len_words','is_train'] + new_label_list\n",
    "wordsDf[columnsToAdd] = dfFull[columnsToAdd]"
   ]
  },
  {
   "cell_type": "code",
   "execution_count": 27,
   "metadata": {},
   "outputs": [
    {
     "data": {
      "text/html": [
       "<div>\n",
       "<style scoped>\n",
       "    .dataframe tbody tr th:only-of-type {\n",
       "        vertical-align: middle;\n",
       "    }\n",
       "\n",
       "    .dataframe tbody tr th {\n",
       "        vertical-align: top;\n",
       "    }\n",
       "\n",
       "    .dataframe thead th {\n",
       "        text-align: right;\n",
       "    }\n",
       "</style>\n",
       "<table border=\"1\" class=\"dataframe\">\n",
       "  <thead>\n",
       "    <tr style=\"text-align: right;\">\n",
       "      <th></th>\n",
       "      <th>&lt;</th>\n",
       "      <th>&lt;long&gt;</th>\n",
       "      <th>&gt;</th>\n",
       "      <th>aa</th>\n",
       "      <th>ab</th>\n",
       "      <th>abandon</th>\n",
       "      <th>abbrevi</th>\n",
       "      <th>abc</th>\n",
       "      <th>abid</th>\n",
       "      <th>abil</th>\n",
       "      <th>...</th>\n",
       "      <th>zu</th>\n",
       "      <th>comment_len_total</th>\n",
       "      <th>comment_len_words</th>\n",
       "      <th>is_train</th>\n",
       "      <th>toxic_label</th>\n",
       "      <th>severe_toxic_label</th>\n",
       "      <th>obscene_label</th>\n",
       "      <th>threat_label</th>\n",
       "      <th>insult_label</th>\n",
       "      <th>identity_hate_label</th>\n",
       "    </tr>\n",
       "  </thead>\n",
       "  <tbody>\n",
       "    <tr>\n",
       "      <th>0000997932d777bf</th>\n",
       "      <td>0.0</td>\n",
       "      <td>0.00000</td>\n",
       "      <td>0.0</td>\n",
       "      <td>0.0</td>\n",
       "      <td>0.0</td>\n",
       "      <td>0.0</td>\n",
       "      <td>0.0</td>\n",
       "      <td>0.0</td>\n",
       "      <td>0.0</td>\n",
       "      <td>0.0</td>\n",
       "      <td>...</td>\n",
       "      <td>0.0</td>\n",
       "      <td>264</td>\n",
       "      <td>43</td>\n",
       "      <td>1</td>\n",
       "      <td>0</td>\n",
       "      <td>0</td>\n",
       "      <td>0</td>\n",
       "      <td>0</td>\n",
       "      <td>0</td>\n",
       "      <td>0</td>\n",
       "    </tr>\n",
       "    <tr>\n",
       "      <th>000103f0d9cfb60f</th>\n",
       "      <td>0.0</td>\n",
       "      <td>0.00000</td>\n",
       "      <td>0.0</td>\n",
       "      <td>0.0</td>\n",
       "      <td>0.0</td>\n",
       "      <td>0.0</td>\n",
       "      <td>0.0</td>\n",
       "      <td>0.0</td>\n",
       "      <td>0.0</td>\n",
       "      <td>0.0</td>\n",
       "      <td>...</td>\n",
       "      <td>0.0</td>\n",
       "      <td>112</td>\n",
       "      <td>17</td>\n",
       "      <td>1</td>\n",
       "      <td>0</td>\n",
       "      <td>0</td>\n",
       "      <td>0</td>\n",
       "      <td>0</td>\n",
       "      <td>0</td>\n",
       "      <td>0</td>\n",
       "    </tr>\n",
       "    <tr>\n",
       "      <th>000113f07ec002fd</th>\n",
       "      <td>0.0</td>\n",
       "      <td>0.00000</td>\n",
       "      <td>0.0</td>\n",
       "      <td>0.0</td>\n",
       "      <td>0.0</td>\n",
       "      <td>0.0</td>\n",
       "      <td>0.0</td>\n",
       "      <td>0.0</td>\n",
       "      <td>0.0</td>\n",
       "      <td>0.0</td>\n",
       "      <td>...</td>\n",
       "      <td>0.0</td>\n",
       "      <td>233</td>\n",
       "      <td>42</td>\n",
       "      <td>1</td>\n",
       "      <td>0</td>\n",
       "      <td>0</td>\n",
       "      <td>0</td>\n",
       "      <td>0</td>\n",
       "      <td>0</td>\n",
       "      <td>0</td>\n",
       "    </tr>\n",
       "    <tr>\n",
       "      <th>0001b41b1c6bb37e</th>\n",
       "      <td>0.0</td>\n",
       "      <td>0.00007</td>\n",
       "      <td>0.0</td>\n",
       "      <td>0.0</td>\n",
       "      <td>0.0</td>\n",
       "      <td>0.0</td>\n",
       "      <td>0.0</td>\n",
       "      <td>0.0</td>\n",
       "      <td>0.0</td>\n",
       "      <td>0.0</td>\n",
       "      <td>...</td>\n",
       "      <td>0.0</td>\n",
       "      <td>622</td>\n",
       "      <td>113</td>\n",
       "      <td>1</td>\n",
       "      <td>0</td>\n",
       "      <td>0</td>\n",
       "      <td>0</td>\n",
       "      <td>0</td>\n",
       "      <td>0</td>\n",
       "      <td>0</td>\n",
       "    </tr>\n",
       "    <tr>\n",
       "      <th>0001d958c54c6e35</th>\n",
       "      <td>0.0</td>\n",
       "      <td>0.00000</td>\n",
       "      <td>0.0</td>\n",
       "      <td>0.0</td>\n",
       "      <td>0.0</td>\n",
       "      <td>0.0</td>\n",
       "      <td>0.0</td>\n",
       "      <td>0.0</td>\n",
       "      <td>0.0</td>\n",
       "      <td>0.0</td>\n",
       "      <td>...</td>\n",
       "      <td>0.0</td>\n",
       "      <td>67</td>\n",
       "      <td>13</td>\n",
       "      <td>1</td>\n",
       "      <td>0</td>\n",
       "      <td>0</td>\n",
       "      <td>0</td>\n",
       "      <td>0</td>\n",
       "      <td>0</td>\n",
       "      <td>0</td>\n",
       "    </tr>\n",
       "  </tbody>\n",
       "</table>\n",
       "<p>5 rows × 4564 columns</p>\n",
       "</div>"
      ],
      "text/plain": [
       "                    <   <long>    >   aa   ab  abandon  abbrevi  abc  abid  \\\n",
       "0000997932d777bf  0.0  0.00000  0.0  0.0  0.0      0.0      0.0  0.0   0.0   \n",
       "000103f0d9cfb60f  0.0  0.00000  0.0  0.0  0.0      0.0      0.0  0.0   0.0   \n",
       "000113f07ec002fd  0.0  0.00000  0.0  0.0  0.0      0.0      0.0  0.0   0.0   \n",
       "0001b41b1c6bb37e  0.0  0.00007  0.0  0.0  0.0      0.0      0.0  0.0   0.0   \n",
       "0001d958c54c6e35  0.0  0.00000  0.0  0.0  0.0      0.0      0.0  0.0   0.0   \n",
       "\n",
       "                  abil  ...   zu  comment_len_total  comment_len_words  \\\n",
       "0000997932d777bf   0.0  ...  0.0                264                 43   \n",
       "000103f0d9cfb60f   0.0  ...  0.0                112                 17   \n",
       "000113f07ec002fd   0.0  ...  0.0                233                 42   \n",
       "0001b41b1c6bb37e   0.0  ...  0.0                622                113   \n",
       "0001d958c54c6e35   0.0  ...  0.0                 67                 13   \n",
       "\n",
       "                  is_train  toxic_label  severe_toxic_label  obscene_label  \\\n",
       "0000997932d777bf         1            0                   0              0   \n",
       "000103f0d9cfb60f         1            0                   0              0   \n",
       "000113f07ec002fd         1            0                   0              0   \n",
       "0001b41b1c6bb37e         1            0                   0              0   \n",
       "0001d958c54c6e35         1            0                   0              0   \n",
       "\n",
       "                  threat_label  insult_label  identity_hate_label  \n",
       "0000997932d777bf             0             0                    0  \n",
       "000103f0d9cfb60f             0             0                    0  \n",
       "000113f07ec002fd             0             0                    0  \n",
       "0001b41b1c6bb37e             0             0                    0  \n",
       "0001d958c54c6e35             0             0                    0  \n",
       "\n",
       "[5 rows x 4564 columns]"
      ]
     },
     "metadata": {},
     "output_type": "display_data"
    },
    {
     "name": "stdout",
     "output_type": "stream",
     "text": [
      "(312735, 4564)\n"
     ]
    }
   ],
   "source": [
    "display(wordsDf.head(5))\n",
    "print(wordsDf.shape)"
   ]
  },
  {
   "cell_type": "code",
   "execution_count": 28,
   "metadata": {},
   "outputs": [],
   "source": [
    "featuresToSelect = [x for x in list(wordsDf.columns) if x not in ['is_train']+new_label_list]"
   ]
  },
  {
   "cell_type": "markdown",
   "metadata": {},
   "source": [
    "## Check if the presence of a word in a comment is indicative"
   ]
  },
  {
   "cell_type": "markdown",
   "metadata": {},
   "source": [
    "* As can be seen, the presence of a word in a particular comment is very indicative of whether the response is violent or not."
   ]
  },
  {
   "cell_type": "code",
   "execution_count": 29,
   "metadata": {},
   "outputs": [
    {
     "name": "stdout",
     "output_type": "stream",
     "text": [
      "Total count of the word \"fuck\": 45241\n",
      "Percent of comments with the word \"fuck\" that were labeled as toxic: 94.28%\n",
      "Percent of comments without the word \"fuck\" that were labeled as toxic: 7.45%\n"
     ]
    }
   ],
   "source": [
    "# A sanity check - does the word 'fuck' increase the likelihood of a comment being toxic?\n",
    "print(f'Total count of the word \"fuck\": {total_word_count[\"fuck\"]}')\n",
    "print(f'Percent of comments with the word \"fuck\" that were labeled as toxic: {round(wordsDf[wordsDf[\"fuck\"] > 0][\"toxic_label\"].mean()*100,2)}%')\n",
    "print(f'Percent of comments without the word \"fuck\" that were labeled as toxic: {round(wordsDf[wordsDf[\"fuck\"] == 0][\"toxic_label\"].mean()*100,2)}%')"
   ]
  },
  {
   "cell_type": "code",
   "execution_count": 30,
   "metadata": {
    "scrolled": false
   },
   "outputs": [
    {
     "data": {
      "text/html": [
       "<div>\n",
       "<style scoped>\n",
       "    .dataframe tbody tr th:only-of-type {\n",
       "        vertical-align: middle;\n",
       "    }\n",
       "\n",
       "    .dataframe tbody tr th {\n",
       "        vertical-align: top;\n",
       "    }\n",
       "\n",
       "    .dataframe thead th {\n",
       "        text-align: right;\n",
       "    }\n",
       "</style>\n",
       "<table border=\"1\" class=\"dataframe\">\n",
       "  <thead>\n",
       "    <tr style=\"text-align: right;\">\n",
       "      <th></th>\n",
       "      <th>oddsRatio</th>\n",
       "      <th>likelihoodRatio</th>\n",
       "      <th>Feature=1_Label=1</th>\n",
       "      <th>Feature=1_Label=0</th>\n",
       "      <th>Feature=0_Label=1</th>\n",
       "      <th>Feature=0_Label=0</th>\n",
       "      <th>total_Feature=1</th>\n",
       "    </tr>\n",
       "  </thead>\n",
       "  <tbody>\n",
       "    <tr>\n",
       "      <th>motherfuck</th>\n",
       "      <td>1067.391845</td>\n",
       "      <td>1051.842912</td>\n",
       "      <td>223.0</td>\n",
       "      <td>2.0</td>\n",
       "      <td>15071.0</td>\n",
       "      <td>144275.0</td>\n",
       "      <td>225.0</td>\n",
       "    </tr>\n",
       "    <tr>\n",
       "      <th>fuckin</th>\n",
       "      <td>559.867355</td>\n",
       "      <td>553.436032</td>\n",
       "      <td>176.0</td>\n",
       "      <td>3.0</td>\n",
       "      <td>15118.0</td>\n",
       "      <td>144274.0</td>\n",
       "      <td>179.0</td>\n",
       "    </tr>\n",
       "    <tr>\n",
       "      <th>cocksuck</th>\n",
       "      <td>469.997532</td>\n",
       "      <td>466.961652</td>\n",
       "      <td>99.0</td>\n",
       "      <td>2.0</td>\n",
       "      <td>15195.0</td>\n",
       "      <td>144275.0</td>\n",
       "      <td>101.0</td>\n",
       "    </tr>\n",
       "    <tr>\n",
       "      <th>fucker</th>\n",
       "      <td>302.474951</td>\n",
       "      <td>298.729676</td>\n",
       "      <td>190.0</td>\n",
       "      <td>6.0</td>\n",
       "      <td>15104.0</td>\n",
       "      <td>144271.0</td>\n",
       "      <td>196.0</td>\n",
       "    </tr>\n",
       "    <tr>\n",
       "      <th>faggot</th>\n",
       "      <td>169.348175</td>\n",
       "      <td>164.361793</td>\n",
       "      <td>453.0</td>\n",
       "      <td>26.0</td>\n",
       "      <td>14841.0</td>\n",
       "      <td>144251.0</td>\n",
       "      <td>479.0</td>\n",
       "    </tr>\n",
       "    <tr>\n",
       "      <th>fuck</th>\n",
       "      <td>204.865196</td>\n",
       "      <td>155.611770</td>\n",
       "      <td>3695.0</td>\n",
       "      <td>224.0</td>\n",
       "      <td>11599.0</td>\n",
       "      <td>144053.0</td>\n",
       "      <td>3919.0</td>\n",
       "    </tr>\n",
       "    <tr>\n",
       "      <th>cock</th>\n",
       "      <td>115.917503</td>\n",
       "      <td>113.565654</td>\n",
       "      <td>313.0</td>\n",
       "      <td>26.0</td>\n",
       "      <td>14981.0</td>\n",
       "      <td>144251.0</td>\n",
       "      <td>339.0</td>\n",
       "    </tr>\n",
       "    <tr>\n",
       "      <th>bitch</th>\n",
       "      <td>103.188295</td>\n",
       "      <td>97.983334</td>\n",
       "      <td>779.0</td>\n",
       "      <td>75.0</td>\n",
       "      <td>14515.0</td>\n",
       "      <td>144202.0</td>\n",
       "      <td>854.0</td>\n",
       "    </tr>\n",
       "    <tr>\n",
       "      <th>pussi</th>\n",
       "      <td>90.508486</td>\n",
       "      <td>89.618903</td>\n",
       "      <td>152.0</td>\n",
       "      <td>16.0</td>\n",
       "      <td>15142.0</td>\n",
       "      <td>144261.0</td>\n",
       "      <td>168.0</td>\n",
       "    </tr>\n",
       "    <tr>\n",
       "      <th>asshol</th>\n",
       "      <td>90.809527</td>\n",
       "      <td>87.121782</td>\n",
       "      <td>628.0</td>\n",
       "      <td>68.0</td>\n",
       "      <td>14666.0</td>\n",
       "      <td>144209.0</td>\n",
       "      <td>696.0</td>\n",
       "    </tr>\n",
       "  </tbody>\n",
       "</table>\n",
       "</div>"
      ],
      "text/plain": [
       "              oddsRatio  likelihoodRatio  Feature=1_Label=1  \\\n",
       "motherfuck  1067.391845      1051.842912              223.0   \n",
       "fuckin       559.867355       553.436032              176.0   \n",
       "cocksuck     469.997532       466.961652               99.0   \n",
       "fucker       302.474951       298.729676              190.0   \n",
       "faggot       169.348175       164.361793              453.0   \n",
       "fuck         204.865196       155.611770             3695.0   \n",
       "cock         115.917503       113.565654              313.0   \n",
       "bitch        103.188295        97.983334              779.0   \n",
       "pussi         90.508486        89.618903              152.0   \n",
       "asshol        90.809527        87.121782              628.0   \n",
       "\n",
       "            Feature=1_Label=0  Feature=0_Label=1  Feature=0_Label=0  \\\n",
       "motherfuck                2.0            15071.0           144275.0   \n",
       "fuckin                    3.0            15118.0           144274.0   \n",
       "cocksuck                  2.0            15195.0           144275.0   \n",
       "fucker                    6.0            15104.0           144271.0   \n",
       "faggot                   26.0            14841.0           144251.0   \n",
       "fuck                    224.0            11599.0           144053.0   \n",
       "cock                     26.0            14981.0           144251.0   \n",
       "bitch                    75.0            14515.0           144202.0   \n",
       "pussi                    16.0            15142.0           144261.0   \n",
       "asshol                   68.0            14666.0           144209.0   \n",
       "\n",
       "            total_Feature=1  \n",
       "motherfuck            225.0  \n",
       "fuckin                179.0  \n",
       "cocksuck              101.0  \n",
       "fucker                196.0  \n",
       "faggot                479.0  \n",
       "fuck                 3919.0  \n",
       "cock                  339.0  \n",
       "bitch                 854.0  \n",
       "pussi                 168.0  \n",
       "asshol                696.0  "
      ]
     },
     "metadata": {},
     "output_type": "display_data"
    },
    {
     "data": {
      "text/html": [
       "<div>\n",
       "<style scoped>\n",
       "    .dataframe tbody tr th:only-of-type {\n",
       "        vertical-align: middle;\n",
       "    }\n",
       "\n",
       "    .dataframe tbody tr th {\n",
       "        vertical-align: top;\n",
       "    }\n",
       "\n",
       "    .dataframe thead th {\n",
       "        text-align: right;\n",
       "    }\n",
       "</style>\n",
       "<table border=\"1\" class=\"dataframe\">\n",
       "  <thead>\n",
       "    <tr style=\"text-align: right;\">\n",
       "      <th></th>\n",
       "      <th>oddsRatio</th>\n",
       "      <th>likelihoodRatio</th>\n",
       "      <th>Feature=1_Label=1</th>\n",
       "      <th>Feature=1_Label=0</th>\n",
       "      <th>Feature=0_Label=1</th>\n",
       "      <th>Feature=0_Label=0</th>\n",
       "      <th>total_Feature=1</th>\n",
       "    </tr>\n",
       "  </thead>\n",
       "  <tbody>\n",
       "    <tr>\n",
       "      <th>talklist</th>\n",
       "      <td>0.0</td>\n",
       "      <td>0.0</td>\n",
       "      <td>0.0</td>\n",
       "      <td>129.0</td>\n",
       "      <td>15294.0</td>\n",
       "      <td>144148.0</td>\n",
       "      <td>129.0</td>\n",
       "    </tr>\n",
       "    <tr>\n",
       "      <th>wikipediafil</th>\n",
       "      <td>0.0</td>\n",
       "      <td>0.0</td>\n",
       "      <td>0.0</td>\n",
       "      <td>145.0</td>\n",
       "      <td>15294.0</td>\n",
       "      <td>144132.0</td>\n",
       "      <td>145.0</td>\n",
       "    </tr>\n",
       "    <tr>\n",
       "      <th>wpr</th>\n",
       "      <td>0.0</td>\n",
       "      <td>0.0</td>\n",
       "      <td>0.0</td>\n",
       "      <td>348.0</td>\n",
       "      <td>15294.0</td>\n",
       "      <td>143929.0</td>\n",
       "      <td>348.0</td>\n",
       "    </tr>\n",
       "    <tr>\n",
       "      <th>paramet</th>\n",
       "      <td>0.0</td>\n",
       "      <td>0.0</td>\n",
       "      <td>0.0</td>\n",
       "      <td>166.0</td>\n",
       "      <td>15294.0</td>\n",
       "      <td>144111.0</td>\n",
       "      <td>166.0</td>\n",
       "    </tr>\n",
       "    <tr>\n",
       "      <th>backlog</th>\n",
       "      <td>0.0</td>\n",
       "      <td>0.0</td>\n",
       "      <td>0.0</td>\n",
       "      <td>104.0</td>\n",
       "      <td>15294.0</td>\n",
       "      <td>144173.0</td>\n",
       "      <td>104.0</td>\n",
       "    </tr>\n",
       "    <tr>\n",
       "      <th>stylecolor</th>\n",
       "      <td>0.0</td>\n",
       "      <td>0.0</td>\n",
       "      <td>0.0</td>\n",
       "      <td>183.0</td>\n",
       "      <td>15294.0</td>\n",
       "      <td>144094.0</td>\n",
       "      <td>183.0</td>\n",
       "    </tr>\n",
       "    <tr>\n",
       "      <th>styleverticalaligntop</th>\n",
       "      <td>0.0</td>\n",
       "      <td>0.0</td>\n",
       "      <td>0.0</td>\n",
       "      <td>221.0</td>\n",
       "      <td>15294.0</td>\n",
       "      <td>144056.0</td>\n",
       "      <td>221.0</td>\n",
       "    </tr>\n",
       "    <tr>\n",
       "      <th>wikipediafair</th>\n",
       "      <td>0.0</td>\n",
       "      <td>0.0</td>\n",
       "      <td>0.0</td>\n",
       "      <td>166.0</td>\n",
       "      <td>15294.0</td>\n",
       "      <td>144111.0</td>\n",
       "      <td>166.0</td>\n",
       "    </tr>\n",
       "    <tr>\n",
       "      <th>backgroundcolorf</th>\n",
       "      <td>0.0</td>\n",
       "      <td>0.0</td>\n",
       "      <td>0.0</td>\n",
       "      <td>131.0</td>\n",
       "      <td>15294.0</td>\n",
       "      <td>144146.0</td>\n",
       "      <td>131.0</td>\n",
       "    </tr>\n",
       "    <tr>\n",
       "      <th>doctrin</th>\n",
       "      <td>0.0</td>\n",
       "      <td>0.0</td>\n",
       "      <td>0.0</td>\n",
       "      <td>135.0</td>\n",
       "      <td>15294.0</td>\n",
       "      <td>144142.0</td>\n",
       "      <td>135.0</td>\n",
       "    </tr>\n",
       "  </tbody>\n",
       "</table>\n",
       "</div>"
      ],
      "text/plain": [
       "                       oddsRatio  likelihoodRatio  Feature=1_Label=1  \\\n",
       "talklist                     0.0              0.0                0.0   \n",
       "wikipediafil                 0.0              0.0                0.0   \n",
       "wpr                          0.0              0.0                0.0   \n",
       "paramet                      0.0              0.0                0.0   \n",
       "backlog                      0.0              0.0                0.0   \n",
       "stylecolor                   0.0              0.0                0.0   \n",
       "styleverticalaligntop        0.0              0.0                0.0   \n",
       "wikipediafair                0.0              0.0                0.0   \n",
       "backgroundcolorf             0.0              0.0                0.0   \n",
       "doctrin                      0.0              0.0                0.0   \n",
       "\n",
       "                       Feature=1_Label=0  Feature=0_Label=1  \\\n",
       "talklist                           129.0            15294.0   \n",
       "wikipediafil                       145.0            15294.0   \n",
       "wpr                                348.0            15294.0   \n",
       "paramet                            166.0            15294.0   \n",
       "backlog                            104.0            15294.0   \n",
       "stylecolor                         183.0            15294.0   \n",
       "styleverticalaligntop              221.0            15294.0   \n",
       "wikipediafair                      166.0            15294.0   \n",
       "backgroundcolorf                   131.0            15294.0   \n",
       "doctrin                            135.0            15294.0   \n",
       "\n",
       "                       Feature=0_Label=0  total_Feature=1  \n",
       "talklist                        144148.0            129.0  \n",
       "wikipediafil                    144132.0            145.0  \n",
       "wpr                             143929.0            348.0  \n",
       "paramet                         144111.0            166.0  \n",
       "backlog                         144173.0            104.0  \n",
       "stylecolor                      144094.0            183.0  \n",
       "styleverticalaligntop           144056.0            221.0  \n",
       "wikipediafair                   144111.0            166.0  \n",
       "backgroundcolorf                144146.0            131.0  \n",
       "doctrin                         144142.0            135.0  "
      ]
     },
     "metadata": {},
     "output_type": "display_data"
    }
   ],
   "source": [
    "dfFull['comment_text_set'] = dfFull['comment_text'].apply(lambda listOfWords: set(listOfWords) & total_vocab)\n",
    "liftsDf = make_lifts_reports_based_on_column_that_contains_set_of_items(dfFull, 'comment_text_set', 'toxic_label')\n",
    "display(liftsDf[liftsDf['total_Feature=1']>=100].sort_values(by='likelihoodRatio', ascending=False).head(10))\n",
    "display(liftsDf[liftsDf['total_Feature=1']>=100].sort_values(by='likelihoodRatio', ascending=False).tail(10))"
   ]
  },
  {
   "cell_type": "markdown",
   "metadata": {},
   "source": [
    "# Modeling"
   ]
  },
  {
   "cell_type": "markdown",
   "metadata": {},
   "source": [
    "## Dimension reduction - PCA"
   ]
  },
  {
   "cell_type": "markdown",
   "metadata": {},
   "source": [
    "* ~4500 features were too much for sklearn on my computer, so I decided to deal with it using a dimension reduction of type PCA"
   ]
  },
  {
   "cell_type": "code",
   "execution_count": 31,
   "metadata": {},
   "outputs": [],
   "source": [
    "X = wordsDf[wordsDf['is_train'] == 1][featuresToSelect].reset_index(drop=True)\n",
    "scaler = StandardScaler()\n",
    "X_scaled = scaler.fit_transform(X.astype(float))"
   ]
  },
  {
   "cell_type": "code",
   "execution_count": 32,
   "metadata": {},
   "outputs": [],
   "source": [
    "pca = PCA(n_components=100)\n",
    "X_reduced = pca.fit_transform(X_scaled)"
   ]
  },
  {
   "cell_type": "markdown",
   "metadata": {},
   "source": [
    "## Fit the model to the data"
   ]
  },
  {
   "cell_type": "markdown",
   "metadata": {},
   "source": [
    "* I chose to use the logistic regression model because the features I built are what words appear in each comment, so the model will add weights for each word - how much does this specific word help to predict if the comment is toxic?"
   ]
  },
  {
   "cell_type": "code",
   "execution_count": 33,
   "metadata": {
    "scrolled": true
   },
   "outputs": [],
   "source": [
    "clfModel = LogisticRegression()\n",
    "paramGrid={'penalty':['l1','l2'], 'C':np.logspace(-4, 2, 10), 'solver': ['liblinear'], 'max_iter':[500]}\n",
    "\n",
    "allFittedModels = {}\n",
    "allModelsScores = {}\n",
    "\n",
    "for label in new_label_list:\n",
    "    curr_y = wordsDf[wordsDf['is_train'] == 1][label].reset_index(drop=True).astype(int)\n",
    "    \n",
    "    clfTuned = GridSearchCV(clfModel, param_grid=paramGrid, cv=3, scoring=my_auc, iid=False)\n",
    "    clfTuned.fit(X_reduced, curr_y)\n",
    "    allFittedModels[label] = clfTuned.best_estimator_\n",
    "    allModelsScores[label] = {'AUC': clfTuned.best_score_}"
   ]
  },
  {
   "cell_type": "code",
   "execution_count": 34,
   "metadata": {},
   "outputs": [
    {
     "data": {
      "text/html": [
       "<div>\n",
       "<style scoped>\n",
       "    .dataframe tbody tr th:only-of-type {\n",
       "        vertical-align: middle;\n",
       "    }\n",
       "\n",
       "    .dataframe tbody tr th {\n",
       "        vertical-align: top;\n",
       "    }\n",
       "\n",
       "    .dataframe thead th {\n",
       "        text-align: right;\n",
       "    }\n",
       "</style>\n",
       "<table border=\"1\" class=\"dataframe\">\n",
       "  <thead>\n",
       "    <tr style=\"text-align: right;\">\n",
       "      <th></th>\n",
       "      <th>AUC</th>\n",
       "    </tr>\n",
       "  </thead>\n",
       "  <tbody>\n",
       "    <tr>\n",
       "      <th>toxic_label</th>\n",
       "      <td>0.874639</td>\n",
       "    </tr>\n",
       "    <tr>\n",
       "      <th>severe_toxic_label</th>\n",
       "      <td>0.916074</td>\n",
       "    </tr>\n",
       "    <tr>\n",
       "      <th>obscene_label</th>\n",
       "      <td>0.869305</td>\n",
       "    </tr>\n",
       "    <tr>\n",
       "      <th>threat_label</th>\n",
       "      <td>0.900481</td>\n",
       "    </tr>\n",
       "    <tr>\n",
       "      <th>insult_label</th>\n",
       "      <td>0.882773</td>\n",
       "    </tr>\n",
       "    <tr>\n",
       "      <th>identity_hate_label</th>\n",
       "      <td>0.886610</td>\n",
       "    </tr>\n",
       "  </tbody>\n",
       "</table>\n",
       "</div>"
      ],
      "text/plain": [
       "                          AUC\n",
       "toxic_label          0.874639\n",
       "severe_toxic_label   0.916074\n",
       "obscene_label        0.869305\n",
       "threat_label         0.900481\n",
       "insult_label         0.882773\n",
       "identity_hate_label  0.886610"
      ]
     },
     "metadata": {},
     "output_type": "display_data"
    }
   ],
   "source": [
    "allModelsResultsDf = pd.DataFrame(allModelsScores).T\n",
    "display(allModelsResultsDf)"
   ]
  },
  {
   "cell_type": "markdown",
   "metadata": {},
   "source": [
    "## Predict the labels of the test dataset"
   ]
  },
  {
   "cell_type": "code",
   "execution_count": 35,
   "metadata": {},
   "outputs": [],
   "source": [
    "X_test = wordsDf[wordsDf['is_train'] == 0][featuresToSelect]\n",
    "X_test_scaled = scaler.transform(X_test.astype(float))\n",
    "X_test_reduced = pca.transform(X_test_scaled)"
   ]
  },
  {
   "cell_type": "code",
   "execution_count": 36,
   "metadata": {},
   "outputs": [],
   "source": [
    "predictionsDf = pd.DataFrame({'id': X_test.index})"
   ]
  },
  {
   "cell_type": "code",
   "execution_count": 37,
   "metadata": {},
   "outputs": [],
   "source": [
    "# Fill the predictions per label.\n",
    "for label in new_label_list:\n",
    "    predictionsDf[label] = allFittedModels[label].predict_proba(X_test_reduced)[:,1]"
   ]
  },
  {
   "cell_type": "code",
   "execution_count": 38,
   "metadata": {
    "scrolled": true
   },
   "outputs": [
    {
     "data": {
      "text/html": [
       "<div>\n",
       "<style scoped>\n",
       "    .dataframe tbody tr th:only-of-type {\n",
       "        vertical-align: middle;\n",
       "    }\n",
       "\n",
       "    .dataframe tbody tr th {\n",
       "        vertical-align: top;\n",
       "    }\n",
       "\n",
       "    .dataframe thead th {\n",
       "        text-align: right;\n",
       "    }\n",
       "</style>\n",
       "<table border=\"1\" class=\"dataframe\">\n",
       "  <thead>\n",
       "    <tr style=\"text-align: right;\">\n",
       "      <th></th>\n",
       "      <th>id</th>\n",
       "      <th>toxic</th>\n",
       "      <th>severe_toxic</th>\n",
       "      <th>obscene</th>\n",
       "      <th>threat</th>\n",
       "      <th>insult</th>\n",
       "      <th>identity_hate</th>\n",
       "    </tr>\n",
       "  </thead>\n",
       "  <tbody>\n",
       "    <tr>\n",
       "      <th>0</th>\n",
       "      <td>00001cee341fdb12</td>\n",
       "      <td>0.984497</td>\n",
       "      <td>0.016741</td>\n",
       "      <td>0.657404</td>\n",
       "      <td>0.006302</td>\n",
       "      <td>0.642728</td>\n",
       "      <td>0.034293</td>\n",
       "    </tr>\n",
       "    <tr>\n",
       "      <th>1</th>\n",
       "      <td>0000247867823ef7</td>\n",
       "      <td>0.100735</td>\n",
       "      <td>0.016242</td>\n",
       "      <td>0.071947</td>\n",
       "      <td>0.007063</td>\n",
       "      <td>0.066894</td>\n",
       "      <td>0.022466</td>\n",
       "    </tr>\n",
       "    <tr>\n",
       "      <th>2</th>\n",
       "      <td>00013b17ad220c46</td>\n",
       "      <td>0.146792</td>\n",
       "      <td>0.022061</td>\n",
       "      <td>0.090139</td>\n",
       "      <td>0.007673</td>\n",
       "      <td>0.087786</td>\n",
       "      <td>0.024616</td>\n",
       "    </tr>\n",
       "    <tr>\n",
       "      <th>3</th>\n",
       "      <td>00017563c3f7919a</td>\n",
       "      <td>0.030779</td>\n",
       "      <td>0.008154</td>\n",
       "      <td>0.022954</td>\n",
       "      <td>0.005574</td>\n",
       "      <td>0.030029</td>\n",
       "      <td>0.019585</td>\n",
       "    </tr>\n",
       "    <tr>\n",
       "      <th>4</th>\n",
       "      <td>00017695ad8997eb</td>\n",
       "      <td>0.161995</td>\n",
       "      <td>0.023870</td>\n",
       "      <td>0.101455</td>\n",
       "      <td>0.008222</td>\n",
       "      <td>0.102282</td>\n",
       "      <td>0.025097</td>\n",
       "    </tr>\n",
       "  </tbody>\n",
       "</table>\n",
       "</div>"
      ],
      "text/plain": [
       "                 id     toxic  severe_toxic   obscene    threat    insult  \\\n",
       "0  00001cee341fdb12  0.984497      0.016741  0.657404  0.006302  0.642728   \n",
       "1  0000247867823ef7  0.100735      0.016242  0.071947  0.007063  0.066894   \n",
       "2  00013b17ad220c46  0.146792      0.022061  0.090139  0.007673  0.087786   \n",
       "3  00017563c3f7919a  0.030779      0.008154  0.022954  0.005574  0.030029   \n",
       "4  00017695ad8997eb  0.161995      0.023870  0.101455  0.008222  0.102282   \n",
       "\n",
       "   identity_hate  \n",
       "0       0.034293  \n",
       "1       0.022466  \n",
       "2       0.024616  \n",
       "3       0.019585  \n",
       "4       0.025097  "
      ]
     },
     "metadata": {},
     "output_type": "display_data"
    },
    {
     "name": "stdout",
     "output_type": "stream",
     "text": [
      "(153164, 7)\n"
     ]
    }
   ],
   "source": [
    "# Return the labels' names to the original names.\n",
    "predictionsDf.columns = [x.replace('_label', '') for x in list(predictionsDf.columns)]\n",
    "display(predictionsDf.head(5))\n",
    "print(predictionsDf.shape)"
   ]
  },
  {
   "cell_type": "code",
   "execution_count": 39,
   "metadata": {},
   "outputs": [],
   "source": [
    "# Save the results to a csv file.\n",
    "predictionsDf.to_csv('NLP_toxic_comments_submission.csv', index=False)"
   ]
  }
 ],
 "metadata": {
  "kernelspec": {
   "display_name": "Python 3",
   "language": "python",
   "name": "python3"
  },
  "language_info": {
   "codemirror_mode": {
    "name": "ipython",
    "version": 3
   },
   "file_extension": ".py",
   "mimetype": "text/x-python",
   "name": "python",
   "nbconvert_exporter": "python",
   "pygments_lexer": "ipython3",
   "version": "3.7.3"
  }
 },
 "nbformat": 4,
 "nbformat_minor": 2
}
